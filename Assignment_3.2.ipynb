{
 "cells": [
  {
   "cell_type": "code",
   "execution_count": 12,
   "metadata": {},
   "outputs": [
    {
     "name": "stdout",
     "output_type": "stream",
     "text": [
      "['A', 'C', 'A', 'D', 'G', 'I', 'L', 'D']\n",
      "['x', 'xx', 'xxx', 'xxxx', 'y', 'yy', 'yyy', 'yyyy', 'z', 'zz', 'zzz', 'zzzz']\n",
      "['x', 'y', 'z', 'xx', 'yy', 'zz', 'xxx', 'yyy', 'zzz', 'xxxx', 'yyyy', 'zzzz']\n",
      "[[2], [3], [4], [3], [4], [5], [4], [5], [6]]\n",
      "[[2, 3, 4, 5], [3, 4, 5, 6], [4, 5, 6, 7], [5, 6, 7, 8]]\n",
      "[(1, 1), (2, 1), (3, 1), (1, 2), (2, 2), (3, 2), (1, 3), (2, 3), (3, 3)]\n"
     ]
    }
   ],
   "source": [
    "# To print ['A', 'C', 'A', 'D', 'G', 'I', ’L’, ‘ D’]\n",
    "letters = [letter for letter in 'ACADGILD']\n",
    "print(letters)\n",
    "\n",
    "# To print ['x', 'xx', 'xxx', 'xxxx', 'y', 'yy', 'yyy', 'yyyy', 'z', 'zz', 'zzz', 'zzzz']\n",
    "n=5\n",
    "listx = []\n",
    "listx.extend([\"x\"*i for i in range(1,n,1)])\n",
    "listx.extend([\"y\"*i for i in range(1,n,1)])\n",
    "listx.extend([\"z\"*i for i in range(1,n,1)]) \n",
    "print(listx)\n",
    "\n",
    "# To print ['x', 'y', 'z', 'xx', 'yy', 'zz', 'xx', 'yy', 'zz', 'xxxx', 'yyyy', 'zzzz']\n",
    "n=5\n",
    "list1 = []\n",
    "for i in range(1,n,1):\n",
    "    list1.extend([\"x\"*i])\n",
    "    list1.extend([\"y\"*i])\n",
    "    list1.extend([\"z\"*i]) \n",
    "print(list1)\n",
    "\n",
    "# To print [[2], [3], [4], [3], [4], [5], [4], [5], [6]]\n",
    "n=5\n",
    "list2 = []\n",
    "for i in range(2,n,1):\n",
    "    list2.append([n for n in range (i,i+1,1)])\n",
    "    list2.append([n for n in range (i+1,i+2,1)])\n",
    "    list2.append([n for n in range (i+2,i+3,1)])\n",
    "print(list2)\n",
    "\n",
    "# To print [[2, 3, 4, 5], [3, 4, 5, 6], [4, 5, 6, 7], [5, 6, 7, 8]]\n",
    "n=6\n",
    "list3 = []\n",
    "for i in range(2,n,1):\n",
    "    list3.append([n for n in range (i,i+4,1)])\n",
    "print(list3)\n",
    "\n",
    "# To print[(1, 1), (2, 1), (3, 1), (1, 2), (2, 2), (3, 2), (1, 3), (2, 3), (3, 3)]\n",
    "n=4\n",
    "list2 = [(y,x) for x in range(1,n,1) for y in range(1,n,1)]\n",
    "print (list2)\n"
   ]
  },
  {
   "cell_type": "code",
   "execution_count": null,
   "metadata": {},
   "outputs": [],
   "source": []
  }
 ],
 "metadata": {
  "kernelspec": {
   "display_name": "Python 3",
   "language": "python",
   "name": "python3"
  },
  "language_info": {
   "codemirror_mode": {
    "name": "ipython",
    "version": 3
   },
   "file_extension": ".py",
   "mimetype": "text/x-python",
   "name": "python",
   "nbconvert_exporter": "python",
   "pygments_lexer": "ipython3",
   "version": "3.6.4"
  }
 },
 "nbformat": 4,
 "nbformat_minor": 2
}
